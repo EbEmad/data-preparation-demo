{
 "cells": [
  {
   "cell_type": "code",
   "execution_count": 4,
   "id": "8a0423e6-de0c-4dfd-83cc-8ec7d58c8634",
   "metadata": {},
   "outputs": [],
   "source": [
    "import pandas as pd"
   ]
  },
  {
   "cell_type": "code",
   "execution_count": 5,
   "id": "b6dd31e1-6937-48e6-b04e-54e109b863c9",
   "metadata": {},
   "outputs": [],
   "source": [
    "# Messy column names\n",
    "data = {\n",
    "    \"  Order ID \": [1, 2, 3],\n",
    "    \"Customer-Name\": [\"Alice\", \"Bob\", \"Charlie\"],\n",
    "    \"  Total;Amount($)  \": [120.5, 340.0, 560.75],\n",
    "    \"Ship.Address\": [\"NY, USA\", \"Paris, FR\", \"Berlin, DE\"],\n",
    "    \"Delivery_Date \": [\"2025/09/01\", \"2025/09/05\", \"2025/09/10\"]\n",
    "}\n",
    "df=pd.DataFrame(data)"
   ]
  },
  {
   "cell_type": "code",
   "execution_count": 7,
   "id": "3284f4de-5210-4dcc-b3ed-0409baf18ff9",
   "metadata": {},
   "outputs": [
    {
     "name": "stdout",
     "output_type": "stream",
     "text": [
      "Before cleaning:\n",
      "     Order ID  Customer-Name    Total;Amount($)   Ship.Address Delivery_Date \n",
      "0            1         Alice               120.50      NY, USA     2025/09/01\n",
      "1            2           Bob               340.00    Paris, FR     2025/09/05\n",
      "2            3       Charlie               560.75   Berlin, DE     2025/09/10 \n",
      "\n"
     ]
    }
   ],
   "source": [
    "print(\"Before cleaning:\")\n",
    "print(df.head(), \"\\n\")"
   ]
  },
  {
   "cell_type": "code",
   "execution_count": 8,
   "id": "461a3155-bb07-4a3d-a562-7abfce870952",
   "metadata": {},
   "outputs": [
    {
     "name": "stdout",
     "output_type": "stream",
     "text": [
      "Original columns: ['  Order ID ', 'Customer-Name', '  Total;Amount($)  ', 'Ship.Address', 'Delivery_Date ']\n"
     ]
    }
   ],
   "source": [
    "print(\"Original columns:\", list(df.columns))"
   ]
  },
  {
   "cell_type": "code",
   "execution_count": null,
   "id": "f34ce36f-4cd0-457d-8f89-e469833ec169",
   "metadata": {},
   "outputs": [],
   "source": [
    "# Clean column names with regex & string ops\n",
    "df_clean_pandas = df.rename(\n",
    "    columns=lambda x: (\n",
    "        x.strip()                # remove spaces around\n",
    "         .lower()                # lowercase\n",
    "         .replace(\" \", \"_\")      # spaces → underscores\n",
    "         .replace(\";\", \"_\")      # semicolon → underscore\n",
    "         .replace(\".\", \"_\")      # dots → underscore\n",
    "         .replace(\"-\", \"_\")      # dashes → underscore\n",
    "         .replace(\"($)\", \"\")     # remove unwanted characters\n",
    "    )\n",
    ")\n",
    "\n",
    "print(\"\\nAfter cleaning with Pandas + Regex:\")\n",
    "print(list(df_clean_pandas.columns))\n"
   ]
  },
  {
   "cell_type": "code",
   "execution_count": 10,
   "id": "69a5779d-1be8-4b5b-9e2a-739230992501",
   "metadata": {},
   "outputs": [],
   "source": [
    "df_clean_cols=df.rename(\n",
    "    columns=lambda x:(\n",
    "        x.strip()\n",
    "         .lower()\n",
    "         .replace(' ','_')\n",
    "         .replace(';','_')\n",
    "         .replace('.','_')\n",
    "         .replace('-','_')\n",
    "         .replace('($)','_')\n",
    "    )\n",
    ")"
   ]
  },
  {
   "cell_type": "code",
   "execution_count": 12,
   "id": "a9513978-1332-4592-9bc6-a498833bde15",
   "metadata": {},
   "outputs": [
    {
     "name": "stdout",
     "output_type": "stream",
     "text": [
      "After cleaning\n",
      "['order_id', 'customer_name', 'total_amount_', 'ship_address', 'delivery_date']\n"
     ]
    }
   ],
   "source": [
    "print(\"After cleaning\")\n",
    "print(list(df_clean_cols.columns))"
   ]
  },
  {
   "cell_type": "code",
   "execution_count": null,
   "id": "b4f4b86b-6b49-4b36-8fd9-53620f66aa37",
   "metadata": {},
   "outputs": [],
   "source": []
  }
 ],
 "metadata": {
  "kernelspec": {
   "display_name": "Python 3 (ipykernel)",
   "language": "python",
   "name": "python3"
  },
  "language_info": {
   "codemirror_mode": {
    "name": "ipython",
    "version": 3
   },
   "file_extension": ".py",
   "mimetype": "text/x-python",
   "name": "python",
   "nbconvert_exporter": "python",
   "pygments_lexer": "ipython3",
   "version": "3.10.18"
  }
 },
 "nbformat": 4,
 "nbformat_minor": 5
}
