{
 "cells": [
  {
   "cell_type": "markdown",
   "id": "0ba916bd-4c91-4be9-9ad3-d17d7fd51d61",
   "metadata": {},
   "source": [
    "# Detecting Issues in Tabular"
   ]
  },
  {
   "cell_type": "markdown",
   "id": "4780b096-29a2-4c9b-ac5b-711d75460ad7",
   "metadata": {},
   "source": [
    "### Data (Numeric/Categorical columns) with Datalab\n",
    "`In this 5-minute quickstart tutorial, we use Datalab to detect various issues in a classification dataset with tabular (numeric/categorical) features. Tabular (or structured) data are typically organized in a row/column format and stored in a SQL database or file types like: CSV, Excel, or Parquet. Here we consider a Student Grades dataset, which contains over 900 individuals who have three exam grades and some optional notes, each being assigned a letter grade (their class label). cleanlab automatically identifies hundreds of examples in this dataset that were mislabeled with the incorrect final grade selected. You can run the same code from this tutorial to detect incorrect information in your own tabular classification datasets.`\n",
    "\n",
    "#### Overview of what we'll do in this demo:\n",
    "* Train a classifier model (here scikit-learn's HistGradientBoostingClassifier, although any model could be used) and use this classifier to compute (out-of-sample) predicted class probabilities via cross-validation.\n",
    "\n",
    "* Create a K nearest neighbours (KNN) graph between the examples in the dataset.*\n",
    "\n",
    "* Identify issues in the dataset with cleanlab's Datalab audit applied to the predictions and KNN graph."
   ]
  },
  {
   "cell_type": "code",
   "execution_count": 1,
   "id": "f73bf1e1-9c36-47f2-b4e0-fadb7e6f0587",
   "metadata": {},
   "outputs": [],
   "source": [
    "import random\n",
    "import numpy as np\n",
    "import pandas as pd\n",
    "\n",
    "from sklearn.model_selection import cross_val_predict\n",
    "from sklearn.preprocessing import StandardScaler\n",
    "from sklearn.ensemble import HistGradientBoostingClassifier\n",
    "from sklearn.neighbors import NearestNeighbors\n",
    "\n",
    "from cleanlab import Datalab\n",
    "\n",
    "SEED = 42  # for reproducibility\n",
    "np.random.seed(SEED)\n",
    "random.seed(SEED)"
   ]
  },
  {
   "cell_type": "code",
   "execution_count": 38,
   "id": "83819445-ce36-4180-af4c-40c0d89c19ff",
   "metadata": {},
   "outputs": [
    {
     "data": {
      "text/html": [
       "<div>\n",
       "<style scoped>\n",
       "    .dataframe tbody tr th:only-of-type {\n",
       "        vertical-align: middle;\n",
       "    }\n",
       "\n",
       "    .dataframe tbody tr th {\n",
       "        vertical-align: top;\n",
       "    }\n",
       "\n",
       "    .dataframe thead th {\n",
       "        text-align: right;\n",
       "    }\n",
       "</style>\n",
       "<table border=\"1\" class=\"dataframe\">\n",
       "  <thead>\n",
       "    <tr style=\"text-align: right;\">\n",
       "      <th></th>\n",
       "      <th>stud_ID</th>\n",
       "      <th>exam_1</th>\n",
       "      <th>exam_2</th>\n",
       "      <th>exam_3</th>\n",
       "      <th>notes</th>\n",
       "      <th>letter_grade</th>\n",
       "    </tr>\n",
       "  </thead>\n",
       "  <tbody>\n",
       "    <tr>\n",
       "      <th>0</th>\n",
       "      <td>390062</td>\n",
       "      <td>37.45</td>\n",
       "      <td>69.82</td>\n",
       "      <td>18.51</td>\n",
       "      <td>NaN</td>\n",
       "      <td>D</td>\n",
       "    </tr>\n",
       "    <tr>\n",
       "      <th>1</th>\n",
       "      <td>0cce35</td>\n",
       "      <td>95.07</td>\n",
       "      <td>53.61</td>\n",
       "      <td>54.19</td>\n",
       "      <td>late submission -5</td>\n",
       "      <td>C</td>\n",
       "    </tr>\n",
       "    <tr>\n",
       "      <th>2</th>\n",
       "      <td>8cd0a4</td>\n",
       "      <td>73.20</td>\n",
       "      <td>30.95</td>\n",
       "      <td>87.29</td>\n",
       "      <td>absent once</td>\n",
       "      <td>C</td>\n",
       "    </tr>\n",
       "    <tr>\n",
       "      <th>3</th>\n",
       "      <td>7d6277</td>\n",
       "      <td>59.87</td>\n",
       "      <td>81.38</td>\n",
       "      <td>73.22</td>\n",
       "      <td>late submission -5</td>\n",
       "      <td>C</td>\n",
       "    </tr>\n",
       "    <tr>\n",
       "      <th>4</th>\n",
       "      <td>7248ad</td>\n",
       "      <td>15.60</td>\n",
       "      <td>68.47</td>\n",
       "      <td>80.66</td>\n",
       "      <td>great participation +10</td>\n",
       "      <td>D</td>\n",
       "    </tr>\n",
       "  </tbody>\n",
       "</table>\n",
       "</div>"
      ],
      "text/plain": [
       "  stud_ID  exam_1  exam_2  exam_3                    notes letter_grade\n",
       "0  390062   37.45   69.82   18.51                      NaN            D\n",
       "1  0cce35   95.07   53.61   54.19       late submission -5            C\n",
       "2  8cd0a4   73.20   30.95   87.29              absent once            C\n",
       "3  7d6277   59.87   81.38   73.22       late submission -5            C\n",
       "4  7248ad   15.60   68.47   80.66  great participation +10            D"
      ]
     },
     "execution_count": 38,
     "metadata": {},
     "output_type": "execute_result"
    }
   ],
   "source": [
    "# load and process data\n",
    "df=pd.read_csv('./grades.csv')\n",
    "df.head()"
   ]
  },
  {
   "cell_type": "code",
   "execution_count": 3,
   "id": "a632ca0f-e457-4215-a39c-a04e0b473b5d",
   "metadata": {},
   "outputs": [
    {
     "data": {
      "text/plain": [
       "(500, 6)"
      ]
     },
     "execution_count": 3,
     "metadata": {},
     "output_type": "execute_result"
    }
   ],
   "source": [
    "df.shape"
   ]
  },
  {
   "cell_type": "code",
   "execution_count": 40,
   "id": "51e2700f-70c7-4395-b2cb-429cb2fea50f",
   "metadata": {},
   "outputs": [
    {
     "name": "stdout",
     "output_type": "stream",
     "text": [
      "0\n"
     ]
    }
   ],
   "source": [
    "print(sum(df.duplicated()))"
   ]
  },
  {
   "cell_type": "code",
   "execution_count": 41,
   "id": "807cc147-11dd-4e03-87dc-d965cf75bb1d",
   "metadata": {},
   "outputs": [],
   "source": [
    "x_raw=df[[\"exam_1\", \"exam_2\", \"exam_3\", \"notes\"]]\n",
    "labels=df[\"letter_grade\"]"
   ]
  },
  {
   "cell_type": "code",
   "execution_count": 42,
   "id": "aa4bb862-8544-4a58-bcb2-6e997ebf490f",
   "metadata": {},
   "outputs": [],
   "source": [
    "cat_cols=[\"notes\"]\n",
    "x_encoded=pd.get_dummies(x_raw,columns=cat_cols, drop_first=True)\n",
    "num_features=[\"exam_1\", \"exam_2\", \"exam_3\"]\n",
    "scaler = StandardScaler()\n",
    "x_processed=x_encoded.copy()\n",
    "x_processed[num_features]=scaler.fit_transform(x_encoded[num_features])"
   ]
  },
  {
   "cell_type": "code",
   "execution_count": 43,
   "id": "c22768af-8379-4294-9dfd-7b1731ff6b51",
   "metadata": {},
   "outputs": [
    {
     "data": {
      "text/html": [
       "<div>\n",
       "<style scoped>\n",
       "    .dataframe tbody tr th:only-of-type {\n",
       "        vertical-align: middle;\n",
       "    }\n",
       "\n",
       "    .dataframe tbody tr th {\n",
       "        vertical-align: top;\n",
       "    }\n",
       "\n",
       "    .dataframe thead th {\n",
       "        text-align: right;\n",
       "    }\n",
       "</style>\n",
       "<table border=\"1\" class=\"dataframe\">\n",
       "  <thead>\n",
       "    <tr style=\"text-align: right;\">\n",
       "      <th></th>\n",
       "      <th>exam_1</th>\n",
       "      <th>exam_2</th>\n",
       "      <th>exam_3</th>\n",
       "      <th>notes_bonus work +15</th>\n",
       "      <th>notes_excellent</th>\n",
       "      <th>notes_great participation +10</th>\n",
       "      <th>notes_late submission -5</th>\n",
       "      <th>notes_needs improvement</th>\n",
       "    </tr>\n",
       "  </thead>\n",
       "  <tbody>\n",
       "    <tr>\n",
       "      <th>0</th>\n",
       "      <td>-0.415775</td>\n",
       "      <td>0.758215</td>\n",
       "      <td>-1.119782</td>\n",
       "      <td>False</td>\n",
       "      <td>False</td>\n",
       "      <td>False</td>\n",
       "      <td>False</td>\n",
       "      <td>False</td>\n",
       "    </tr>\n",
       "    <tr>\n",
       "      <th>1</th>\n",
       "      <td>1.515254</td>\n",
       "      <td>0.189858</td>\n",
       "      <td>0.081990</td>\n",
       "      <td>False</td>\n",
       "      <td>False</td>\n",
       "      <td>False</td>\n",
       "      <td>True</td>\n",
       "      <td>False</td>\n",
       "    </tr>\n",
       "    <tr>\n",
       "      <th>2</th>\n",
       "      <td>0.782321</td>\n",
       "      <td>-0.604650</td>\n",
       "      <td>1.196863</td>\n",
       "      <td>False</td>\n",
       "      <td>False</td>\n",
       "      <td>False</td>\n",
       "      <td>False</td>\n",
       "      <td>False</td>\n",
       "    </tr>\n",
       "    <tr>\n",
       "      <th>3</th>\n",
       "      <td>0.335590</td>\n",
       "      <td>1.163533</td>\n",
       "      <td>0.722958</td>\n",
       "      <td>False</td>\n",
       "      <td>False</td>\n",
       "      <td>False</td>\n",
       "      <td>True</td>\n",
       "      <td>False</td>\n",
       "    </tr>\n",
       "    <tr>\n",
       "      <th>4</th>\n",
       "      <td>-1.148038</td>\n",
       "      <td>0.710881</td>\n",
       "      <td>0.973552</td>\n",
       "      <td>False</td>\n",
       "      <td>False</td>\n",
       "      <td>True</td>\n",
       "      <td>False</td>\n",
       "      <td>False</td>\n",
       "    </tr>\n",
       "    <tr>\n",
       "      <th>...</th>\n",
       "      <td>...</td>\n",
       "      <td>...</td>\n",
       "      <td>...</td>\n",
       "      <td>...</td>\n",
       "      <td>...</td>\n",
       "      <td>...</td>\n",
       "      <td>...</td>\n",
       "      <td>...</td>\n",
       "    </tr>\n",
       "    <tr>\n",
       "      <th>495</th>\n",
       "      <td>-0.486488</td>\n",
       "      <td>-1.368654</td>\n",
       "      <td>0.507393</td>\n",
       "      <td>True</td>\n",
       "      <td>False</td>\n",
       "      <td>False</td>\n",
       "      <td>False</td>\n",
       "      <td>False</td>\n",
       "    </tr>\n",
       "    <tr>\n",
       "      <th>496</th>\n",
       "      <td>0.285320</td>\n",
       "      <td>1.526426</td>\n",
       "      <td>0.343362</td>\n",
       "      <td>False</td>\n",
       "      <td>False</td>\n",
       "      <td>False</td>\n",
       "      <td>False</td>\n",
       "      <td>False</td>\n",
       "    </tr>\n",
       "    <tr>\n",
       "      <th>497</th>\n",
       "      <td>-1.410446</td>\n",
       "      <td>-1.210173</td>\n",
       "      <td>-0.182077</td>\n",
       "      <td>False</td>\n",
       "      <td>False</td>\n",
       "      <td>False</td>\n",
       "      <td>False</td>\n",
       "      <td>False</td>\n",
       "    </tr>\n",
       "    <tr>\n",
       "      <th>498</th>\n",
       "      <td>1.594680</td>\n",
       "      <td>1.641781</td>\n",
       "      <td>-0.463995</td>\n",
       "      <td>False</td>\n",
       "      <td>False</td>\n",
       "      <td>True</td>\n",
       "      <td>False</td>\n",
       "      <td>False</td>\n",
       "    </tr>\n",
       "    <tr>\n",
       "      <th>499</th>\n",
       "      <td>1.634226</td>\n",
       "      <td>-0.126052</td>\n",
       "      <td>1.164528</td>\n",
       "      <td>False</td>\n",
       "      <td>False</td>\n",
       "      <td>False</td>\n",
       "      <td>False</td>\n",
       "      <td>False</td>\n",
       "    </tr>\n",
       "  </tbody>\n",
       "</table>\n",
       "<p>500 rows × 8 columns</p>\n",
       "</div>"
      ],
      "text/plain": [
       "       exam_1    exam_2    exam_3  notes_bonus work +15  notes_excellent  \\\n",
       "0   -0.415775  0.758215 -1.119782                 False            False   \n",
       "1    1.515254  0.189858  0.081990                 False            False   \n",
       "2    0.782321 -0.604650  1.196863                 False            False   \n",
       "3    0.335590  1.163533  0.722958                 False            False   \n",
       "4   -1.148038  0.710881  0.973552                 False            False   \n",
       "..        ...       ...       ...                   ...              ...   \n",
       "495 -0.486488 -1.368654  0.507393                  True            False   \n",
       "496  0.285320  1.526426  0.343362                 False            False   \n",
       "497 -1.410446 -1.210173 -0.182077                 False            False   \n",
       "498  1.594680  1.641781 -0.463995                 False            False   \n",
       "499  1.634226 -0.126052  1.164528                 False            False   \n",
       "\n",
       "     notes_great participation +10  notes_late submission -5  \\\n",
       "0                            False                     False   \n",
       "1                            False                      True   \n",
       "2                            False                     False   \n",
       "3                            False                      True   \n",
       "4                             True                     False   \n",
       "..                             ...                       ...   \n",
       "495                          False                     False   \n",
       "496                          False                     False   \n",
       "497                          False                     False   \n",
       "498                           True                     False   \n",
       "499                          False                     False   \n",
       "\n",
       "     notes_needs improvement  \n",
       "0                      False  \n",
       "1                      False  \n",
       "2                      False  \n",
       "3                      False  \n",
       "4                      False  \n",
       "..                       ...  \n",
       "495                    False  \n",
       "496                    False  \n",
       "497                    False  \n",
       "498                    False  \n",
       "499                    False  \n",
       "\n",
       "[500 rows x 8 columns]"
      ]
     },
     "execution_count": 43,
     "metadata": {},
     "output_type": "execute_result"
    }
   ],
   "source": [
    "x_processed"
   ]
  },
  {
   "cell_type": "markdown",
   "id": "88106a21-6cc4-4946-b6f8-e342edcf4b17",
   "metadata": {},
   "source": [
    "### Select a classification model and compute out-of-sample predicted probabilities"
   ]
  },
  {
   "cell_type": "code",
   "execution_count": 44,
   "id": "94baccf2-1aa1-4f1a-a2f9-533af54ceae2",
   "metadata": {},
   "outputs": [],
   "source": [
    "clf=HistGradientBoostingClassifier()"
   ]
  },
  {
   "cell_type": "code",
   "execution_count": 45,
   "id": "deb6d5f1-5648-442f-852f-7469f568878f",
   "metadata": {},
   "outputs": [],
   "source": [
    "num_crossval_folds=5\n",
    "pred_probs=cross_val_predict(\n",
    "    clf,\n",
    "    x_processed,\n",
    "    labels,\n",
    "    cv=num_crossval_folds,\n",
    "    method=\"predict_proba\"\n",
    "\n",
    ")"
   ]
  },
  {
   "cell_type": "markdown",
   "id": "5d30d9e2-4c9f-452d-8c70-80eae4582ea9",
   "metadata": {},
   "source": [
    "### Construct K nearest neighbours graph\n",
    "* To detect outliers: isolated points will have large distances to their neighbors.\n",
    "\n",
    "* To find clusters: similar points will connect densely.\n",
    "\n",
    "* To support manifold learning (like t-SNE, UMAP, Isomap).\n",
    "\n",
    "* For data validation: if some points don’t connect well, they may be errors."
   ]
  },
  {
   "cell_type": "code",
   "execution_count": 46,
   "id": "53cc21cf-8b9a-410b-903b-10e260c5a915",
   "metadata": {},
   "outputs": [],
   "source": [
    "from sklearn.neighbors import kneighbors_graph\n",
    "KNN=NearestNeighbors(metric='euclidean')\n",
    "KNN.fit(x_processed.values)\n",
    "KNN_graph = kneighbors_graph(X, n_neighbors=3, mode='connectivity')"
   ]
  },
  {
   "cell_type": "code",
   "execution_count": 47,
   "id": "0b953c88-58c9-48d4-905c-1b71835b3d53",
   "metadata": {
    "scrolled": true
   },
   "outputs": [
    {
     "data": {
      "image/png": "[encoded data removed]",
      "text/plain": [
       "<Figure size 600x600 with 1 Axes>"
      ]
     },
     "metadata": {},
     "output_type": "display_data"
    }
   ],
   "source": [
    "import networkx as nx\n",
    "import matplotlib.pyplot as plt\n",
    "from sklearn.datasets import make_moons\n",
    "X, _ = make_moons(n_samples=20, noise=0.1, random_state=42)\n",
    "G = nx.from_scipy_sparse_array(KNN_graph)\n",
    "\n",
    "# Plot\n",
    "plt.figure(figsize=(6, 6))\n",
    "pos = {i: X[i] for i in range(len(X))}  # use original coordinates\n",
    "nx.draw(G, pos, with_labels=True, node_size=500, node_color=\"skyblue\", edge_color=\"gray\")\n",
    "plt.title(\"KNN Graph (3 Nearest Neighbors)\")\n",
    "plt.show()"
   ]
  },
  {
   "cell_type": "markdown",
   "id": "a9fa70b0-9f02-4333-bd0e-595cb1f172d7",
   "metadata": {},
   "source": [
    "### Use cleanlab to find label issues"
   ]
  },
  {
   "cell_type": "code",
   "execution_count": null,
   "id": "e18af221-68d0-49ea-a1b8-9427d17ec551",
   "metadata": {},
   "outputs": [],
   "source": [
    "data = {\"X\": x_processed.values, \"letter_grade\": labels}\n",
    "\n",
    "lab = Datalab(data, label_name=\"letter_grade\")\n",
    "lab.find_issues(pred_probs=pred_probs, knn_graph=KNN_graph)"
   ]
  },
  {
   "cell_type": "code",
   "execution_count": null,
   "id": "6289c089-5063-4f53-9c79-3a38764ecc14",
   "metadata": {},
   "outputs": [],
   "source": [
    "lap.report()"
   ]
  },
  {
   "cell_type": "markdown",
   "id": "88752e23-be19-4607-8fbe-f42fc9d8eb89",
   "metadata": {},
   "source": [
    "### Label issues"
   ]
  },
  {
   "cell_type": "code",
   "execution_count": null,
   "id": "0df4f523-52f4-4988-a73b-c797b726807b",
   "metadata": {},
   "outputs": [],
   "source": [
    "issue_results = lab.get_issues(\"label\")\n",
    "issue_results.head()"
   ]
  },
  {
   "cell_type": "code",
   "execution_count": null,
   "id": "9ff97489-6f67-4db3-91eb-c506d94ccd9c",
   "metadata": {},
   "outputs": [],
   "source": [
    "sorted_issues = issue_results.sort_values(\"label_score\").index\n",
    "\n",
    "X_raw.iloc[sorted_issues].assign(\n",
    "    given_label=labels.iloc[sorted_issues],\n",
    "    predicted_label=issue_results[\"predicted_label\"].iloc[sorted_issues]\n",
    ").head()"
   ]
  },
  {
   "cell_type": "markdown",
   "id": "d2af333f-f204-41bd-875c-ba50fadda17e",
   "metadata": {},
   "source": [
    "### Outlier issues"
   ]
  },
  {
   "cell_type": "code",
   "execution_count": null,
   "id": "593b5850-317e-4cb1-aa39-afd434292a41",
   "metadata": {},
   "outputs": [],
   "source": [
    "outlier_results = lab.get_issues(\"outlier\")\n",
    "sorted_outliers= outlier_results.sort_values(\"outlier_score\").index\n",
    "\n",
    "X_raw.iloc[sorted_outliers].head()"
   ]
  },
  {
   "cell_type": "markdown",
   "id": "730fcc10-1969-448b-97b4-0a32b5dab3f9",
   "metadata": {},
   "source": [
    "### Near-duplicate issues"
   ]
  },
  {
   "cell_type": "code",
   "execution_count": null,
   "id": "52d88954-7c33-4935-b35d-81ecc7729735",
   "metadata": {},
   "outputs": [],
   "source": [
    "duplicate_results = lab.get_issues(\"near_duplicate\")\n",
    "duplicate_results.sort_values(\"near_duplicate_score\").head()"
   ]
  },
  {
   "cell_type": "code",
   "execution_count": null,
   "id": "4e086ca8-473c-4256-96eb-ec2de291bae0",
   "metadata": {},
   "outputs": [],
   "source": [
    "duplicate_results[duplicate_results['is_near_duplicate_issue'] == True]"
   ]
  },
  {
   "cell_type": "code",
   "execution_count": null,
   "id": "e7750610-9375-4bd2-8d75-ce56bae4e7d0",
   "metadata": {},
   "outputs": [],
   "source": [
    "# Identify the row with the lowest near_duplicate_score\n",
    "lowest_scoring_duplicate = duplicate_results[\"near_duplicate_score\"].idxmin()\n",
    "\n",
    "# Extract the indices of the lowest scoring duplicate and its near duplicate sets\n",
    "indices_to_display = [lowest_scoring_duplicate] + duplicate_results.loc[lowest_scoring_duplicate, \"near_duplicate_sets\"].tolist()\n",
    "\n",
    "# Display the relevant rows from the original dataset\n",
    "X_raw.iloc[indices_to_display]"
   ]
  },
  {
   "cell_type": "code",
   "execution_count": null,
   "id": "1a9b4908-40c6-4512-b5e5-0738318d3a8f",
   "metadata": {},
   "outputs": [],
   "source": [
    "# Identify the next row not in the previous near duplicate set\n",
    "second_lowest_scoring_duplicate = duplicate_results[\"near_duplicate_score\"].drop(indices_to_display).idxmin()\n",
    "\n",
    "# Extract the indices of the second lowest scoring duplicate and its near duplicate sets\n",
    "next_indices_to_display = [second_lowest_scoring_duplicate] + duplicate_results.loc[second_lowest_scoring_duplicate, \"near_duplicate_sets\"].tolist()\n",
    "\n",
    "# Display the relevant rows from the original dataset\n",
    "X_raw.iloc[next_indices_to_display]"
   ]
  },
  {
   "cell_type": "markdown",
   "id": "59be2dee-1dc5-46cb-9e2f-081c4eb3c644",
   "metadata": {},
   "source": [
    "# Spending too much time on data quality?"
   ]
  },
  {
   "cell_type": "code",
   "execution_count": null,
   "id": "184c09ea-de64-4e99-a235-ebc675346749",
   "metadata": {},
   "outputs": [],
   "source": [
    "# Note: This cell is only for docs.cleanlab.ai, if running on local Jupyter or Colab, please ignore it.\n",
    "\n",
    "identified_label_issues = issue_results[issue_results[\"is_label_issue\"] == True]\n",
    "label_issue_indices = [3, 723, 709, 886, 689]  # check these examples were found in label issues\n",
    "if not all(x in identified_label_issues.index for x in label_issue_indices):\n",
    "    raise Exception(\"Some highlighted examples are missing from identified_label_issues.\")\n",
    "\n",
    "identified_outlier_issues = outlier_results[outlier_results[\"is_outlier_issue\"] == True]\n",
    "outlier_issue_indices = [3, 7, 0, 4, 8]  # check these examples were found in outlier issues\n",
    "if not all(x in identified_outlier_issues.index for x in outlier_issue_indices):\n",
    "    raise Exception(\"Some highlighted examples are missing from identified_outlier_issues.\")\n",
    "\n",
    "identified_duplicate_issues = duplicate_results[duplicate_results[\"is_near_duplicate_issue\"] == True]\n",
    "duplicate_issue_indices = [690, 246, 185, 582]  # check these examples were found in duplicate issues\n",
    "if not all(x in identified_duplicate_issues.index for x in duplicate_issue_indices):\n",
    "    raise Exception(\"Some highlighted examples are missing from identified_duplicate_issues.\")\n",
    "\n",
    "# check that the near duplicates shown are actually flagged as near duplicate sets\n",
    "if not duplicate_results.iloc[690][\"near_duplicate_sets\"] == 246:\n",
    "    raise Exception(\"These examples are not in the same near duplicate set\")\n",
    "\n",
    "if not duplicate_results.iloc[185][\"near_duplicate_sets\"] == 582:\n",
    "    raise Exception(\"These examples are not in the same near duplicate set\")\n",
    "\n",
    "# Function to check if all rows are identical\n",
    "def are_rows_identical(df):\n",
    "    first_row = df.iloc[0]\n",
    "    return all(df.iloc[i].equals(first_row) for i in range(1, len(df)))\n",
    "\n",
    "# Test to ensure all displayed rows are identical\n",
    "if not are_rows_identical(X_raw.iloc[indices_to_display]):\n",
    "    raise Exception(\"Not all rows are identical! These examples should belong to the same EXACT duplicate set\")\n",
    "\n",
    "# Repeat the test for the next set of indices\n",
    "if not are_rows_identical(X_raw.iloc[next_indices_to_display]):\n",
    "    raise Exception(\"Not all rows are identical! These examples should belong to the same EXACT duplicate set\")"
   ]
  }
 ],
 "metadata": {
  "kernelspec": {
   "display_name": "Python 3 (ipykernel)",
   "language": "python",
   "name": "python3"
  },
  "language_info": {
   "codemirror_mode": {
    "name": "ipython",
    "version": 3
   },
   "file_extension": ".py",
   "mimetype": "text/x-python",
   "name": "python",
   "nbconvert_exporter": "python",
   "pygments_lexer": "ipython3",
   "version": "3.10.18"
  }
 },
 "nbformat": 4,
 "nbformat_minor": 5
}
